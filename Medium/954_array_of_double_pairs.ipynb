{
 "cells": [
  {
   "cell_type": "markdown",
   "id": "86633f1a",
   "metadata": {},
   "source": [
    "954. Array of Doubled Pairs\n",
    "     Medium\n",
    "     Topics\n",
    "     Companies\n",
    "     Given an integer array of even length arr, return true if it is possible to reorder arr such that arr[2 * i + 1] = 2 _ arr[2 _ i] for every 0 <= i < len(arr) / 2, or false otherwise.\n",
    "\n",
    "Example 1:\n",
    "\n",
    "Input: arr = [3,1,3,6]\n",
    "Output: false\n",
    "Example 2:\n",
    "\n",
    "Input: arr = [2,1,2,6]\n",
    "Output: false\n",
    "Example 3:\n",
    "\n",
    "Input: arr = [4,-2,2,-4]\n",
    "Output: true\n",
    "Explanation: We can take two groups, [-2,-4] and [2,4] to form [-2,-4,2,4] or [2,4,-2,-4].\n",
    "\n",
    "Constraints:\n",
    "\n",
    "2 <= arr.length <= 3 \\* 104\n",
    "arr.length is even.\n",
    "-105 <= arr[i] <= 105\n"
   ]
  }
 ],
 "metadata": {
  "language_info": {
   "name": "python"
  }
 },
 "nbformat": 4,
 "nbformat_minor": 5
}
