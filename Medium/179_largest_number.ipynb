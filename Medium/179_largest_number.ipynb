{
 "cells": [
  {
   "cell_type": "markdown",
   "id": "409f3cdb",
   "metadata": {},
   "source": [
    "# 179. Largest Number\n",
    "\n",
    "**Medium**\n",
    "\n",
    "Given a list of non-negative integers nums, arrange them such that they form the largest number and return it.\n",
    "\n",
    "Since the result may be very large, so you need to return a string instead of an integer.\n",
    "\n",
    "# Example 1:\n",
    "\n",
    "```python\n",
    "Input: nums = [10,2]\n",
    "Output: \"210\"\n",
    "```\n",
    "\n",
    "# Example 2:\n",
    "\n",
    "```\n",
    "Input: nums = [3,30,34,5,9]\n",
    "Output: \"9534330\"\n",
    "\n",
    "```\n",
    "\n",
    "**Constraints**:\n",
    "\n",
    "- 1 <= nums.length <= 100\n",
    "- 0 <= nums[i] <= 109\n"
   ]
  }
 ],
 "metadata": {
  "kernelspec": {
   "display_name": "myenv",
   "language": "python",
   "name": "python3"
  },
  "language_info": {
   "name": "python",
   "version": "3.12.7"
  }
 },
 "nbformat": 4,
 "nbformat_minor": 5
}
