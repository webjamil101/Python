{
 "cells": [
  {
   "cell_type": "markdown",
   "id": "21b1b441",
   "metadata": {},
   "source": []
  },
  {
   "cell_type": "code",
   "execution_count": null,
   "id": "1d9a1f40",
   "metadata": {},
   "outputs": [],
   "source": [
    "from typing import List\n",
    "import math\n",
    "\n",
    "class Solution:\n",
    "    def minimumArea(self, grid: List[List[int]]) -> int:\n",
    "        x1 = y1 = math.inf      # Top-left corner\n",
    "        x2 = y2 = -math.inf     # Bottom-right corner\n",
    "\n",
    "        for i, row in enumerate(grid):\n",
    "            for j, val in enumerate(row):\n",
    "                if val == 1:\n",
    "                    x1 = min(x1, i)\n",
    "                    y1 = min(y1, j)\n",
    "                    x2 = max(x2, i)\n",
    "                    y2 = max(y2, j)\n",
    "\n",
    "        return (x2 - x1 + 1) * (y2 - y1 + 1)"
   ]
  }
 ],
 "metadata": {
  "kernelspec": {
   "display_name": "myenv",
   "language": "python",
   "name": "python3"
  },
  "language_info": {
   "name": "python",
   "version": "3.12.7"
  }
 },
 "nbformat": 4,
 "nbformat_minor": 5
}
