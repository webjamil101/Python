{
 "cells": [
  {
   "cell_type": "markdown",
   "id": "0345df7d",
   "metadata": {},
   "source": [
    "790. Domino and Tromino Tiling\n",
    "\n",
    "# Medium\n",
    "\n",
    "You have two types of tiles: a 2 x 1 domino shape and a tromino shape. You may rotate these shapes.\n",
    "\n",
    "Given an integer n, return the number of ways to tile an 2 x n board. Since the answer may be very large, return it modulo 109 + 7.\n",
    "\n",
    "In a tiling, every square must be covered by a tile. Two tilings are different if and only if there are two 4-directionally adjacent cells on the board such that exactly one of the tilings has both squares occupied by a tile.\n",
    "\n",
    "# Example 1:\n",
    "\n",
    "```\n",
    "Input: n = 3\n",
    "Output: 5\n",
    "Explanation: The five different ways are show above.\n",
    "```\n",
    "\n",
    "# Example 2:\n",
    "\n",
    "```\n",
    "Input: n = 1\n",
    "Output: 1\n",
    "```\n",
    "\n",
    "# Constraints:\n",
    "\n",
    "- 1 <= n <= 1000\n"
   ]
  }
 ],
 "metadata": {
  "language_info": {
   "name": "python"
  }
 },
 "nbformat": 4,
 "nbformat_minor": 5
}
