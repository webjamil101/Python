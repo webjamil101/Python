{
 "cells": [
  {
   "cell_type": "markdown",
   "id": "23fba9a6",
   "metadata": {},
   "source": [
    "# 2129. Capitalize the Title\n",
    "\n",
    "# Easy\n",
    "\n",
    "You are given a string title consisting of one or more words separated by a single space, where each word consists of English letters. Capitalize the string by changing the capitalization of each word such that:\n",
    "\n",
    "If the length of the word is 1 or 2 letters, change all letters to lowercase.\n",
    "Otherwise, change the first letter to uppercase and the remaining letters to lowercase.\n",
    "Return the capitalized title.\n",
    "\n",
    "# Example 1:\n",
    "\n",
    "```\n",
    "Input: title = \"capiTalIze tHe titLe\"\n",
    "Output: \"Capitalize The Title\"\n",
    "Explanation:\n",
    "Since all the words have a length of at least 3, the first letter of each word is uppercase, and the remaining letters are lowercase.\n",
    "```\n",
    "\n",
    "# Example 2:\n",
    "\n",
    "```\n",
    "Input: title = \"First leTTeR of EACH Word\"\n",
    "Output: \"First Letter of Each Word\"\n",
    "Explanation:\n",
    "The word \"of\" has length 2, so it is all lowercase.\n",
    "The remaining words have a length of at least 3, so the first letter of each remaining word is uppercase, and the remaining letters are lowercase.\n",
    "```\n",
    "\n",
    "# Example 3:\n",
    "\n",
    "```\n",
    "Input: title = \"i lOve leetcode\"\n",
    "Output: \"i Love Leetcode\"\n",
    "Explanation:\n",
    "The word \"i\" has length 1, so it is lowercase.\n",
    "The remaining words have a length of at least 3, so the first letter of each remaining word is uppercase, and the remaining letters are lowercase.\n",
    "```\n",
    "\n",
    "# Constraints:\n",
    "\n",
    "- 1 <= title.length <= 100\n",
    "- title consists of words separated by a single space without any leading or trailing spaces.\n",
    "- Each word consists of uppercase and lowercase English letters and is non-empty.\n"
   ]
  }
 ],
 "metadata": {
  "language_info": {
   "name": "python"
  }
 },
 "nbformat": 4,
 "nbformat_minor": 5
}
