{
 "cells": [
  {
   "cell_type": "markdown",
   "id": "0986a322",
   "metadata": {},
   "source": [
    "**3000. Maximum Area of Longest Diagonal Rectangle**\n",
    "\n",
    "**Easy**\n",
    "\n",
    "**Companies**\n",
    "\n",
    "You are given a 2D 0-indexed integer array dimensions.\n",
    "\n",
    "For all indices i, 0 <= i < dimensions.length, dimensions[i][0] represents the length and dimensions[i][1] represents the width of the rectangle i.\n",
    "\n",
    "Return the area of the rectangle having the longest diagonal. If there are multiple rectangles with the longest diagonal, return the area of the rectangle having the maximum area.\n",
    "\n",
    "**Example 1:**\n",
    "\n",
    "```\n",
    "Input: dimensions = [[9,3],[8,6]]\n",
    "Output: 48\n",
    "```\n",
    "\n",
    "**Explanation:**\n",
    "\n",
    "- For index = 0, length = 9 and width = 3. Diagonal length = sqrt(9 _ 9 + 3 _ 3) = sqrt(90) ≈ 9.487.\n",
    "- For index = 1, length = 8 and width = 6. Diagonal length = sqrt(8 _ 8 + 6 _ 6) = sqrt(100) = 10.\n",
    "- So, the rectangle at index 1 has a greater diagonal length therefore we return area = 8 \\* 6 = 48.\n",
    "\n",
    "**Example 2:**\n",
    "\n",
    "```\n",
    "Input: dimensions = [[3,4],[4,3]]\n",
    "Output: 12\n",
    "```\n",
    "\n",
    "**Explanation:** Length of diagonal is the same for both which is 5, so maximum area = 12.\n",
    "\n",
    "**Constraints:**\n",
    "\n",
    "- 1 <= dimensions.length <= 100\n",
    "- dimensions[i].length == 2\n",
    "- 1 <= dimensions[i][0], dimensions[i][1] <= 100\n"
   ]
  },
  {
   "cell_type": "code",
   "execution_count": null,
   "id": "946160a8",
   "metadata": {},
   "outputs": [],
   "source": [
    "from typing import List\n",
    "class Solution:\n",
    "    def areaOfMaxDiagonal(self, dimensions: List[List[int]]) -> int:\n",
    "        max_diag_sq = -1\n",
    "        max_area = -1\n",
    "        for l, w in dimensions:\n",
    "            diag_sq = l * l + w * w\n",
    "            area = l * w\n",
    "            if diag_sq > max_diag_sq:\n",
    "                max_diag_sq = diag_sq\n",
    "                max_area = area\n",
    "            elif diag_sq == max_diag_sq:\n",
    "                if area > max_area:\n",
    "                    max_area = area\n",
    "        return max_area"
   ]
  },
  {
   "cell_type": "code",
   "execution_count": null,
   "id": "14fbd526",
   "metadata": {},
   "outputs": [],
   "source": [
    "from functools import reduce\n",
    "\n",
    "class Solution:\n",
    "    def areaOfMaxDiagonal(self, dimensions: List[List[int]]) -> int:\n",
    "        def compare(rect1, rect2):\n",
    "            l1, w1 = rect1\n",
    "            l2, w2 = rect2\n",
    "            diag_sq1 = l1 * l1 + w1 * w1\n",
    "            diag_sq2 = l2 * l2 + w2 * w2\n",
    "            area1 = l1 * w1\n",
    "            area2 = l2 * w2\n",
    "            if diag_sq1 > diag_sq2:\n",
    "                return rect1\n",
    "            elif diag_sq1 < diag_sq2:\n",
    "                return rect2\n",
    "            else:\n",
    "                return rect1 if area1 > area2 else rect2\n",
    "        \n",
    "        best_rect = reduce(compare, dimensions)\n",
    "        return best_rect[0] * best_rect[1]"
   ]
  },
  {
   "cell_type": "code",
   "execution_count": null,
   "id": "a670aaf1",
   "metadata": {},
   "outputs": [],
   "source": [
    "import heapq\n",
    "\n",
    "class Solution:\n",
    "    def areaOfMaxDiagonal(self, dimensions: List[List[int]]) -> int:\n",
    "        heap = []\n",
    "        for l, w in dimensions:\n",
    "            diag_sq = l * l + w * w\n",
    "            area = l * w\n",
    "            heapq.heappush(heap, (-diag_sq, -area, l, w))\n",
    "        \n",
    "        _, _, l, w = heapq.heappop(heap)\n",
    "        return l * w"
   ]
  },
  {
   "cell_type": "code",
   "execution_count": null,
   "id": "ea2845a0",
   "metadata": {},
   "outputs": [],
   "source": [
    "class Solution:\n",
    "    def areaOfMaxDiagonal(self, dimensions: List[List[int]]) -> int:\n",
    "        def key_func(rect):\n",
    "            l, w = rect\n",
    "            diag_sq = l * l + w * w\n",
    "            area = l * w\n",
    "            return (diag_sq, area)\n",
    "        \n",
    "        best_rect = max(dimensions, key=key_func)\n",
    "        return best_rect[0] * best_rect[1]"
   ]
  },
  {
   "cell_type": "code",
   "execution_count": null,
   "id": "04e86eae",
   "metadata": {},
   "outputs": [],
   "source": [
    "class Solution:\n",
    "    def areaOfMaxDiagonal(self, dimensions: List[List[int]]) -> int:\n",
    "        def key_func(rect):\n",
    "            l, w = rect\n",
    "            diag_sq = l * l + w * w\n",
    "            area = l * w\n",
    "            return (-diag_sq, -area)  # Negative for descending order\n",
    "        \n",
    "        dimensions.sort(key=key_func)\n",
    "        l, w = dimensions[0]\n",
    "        return l * w"
   ]
  }
 ],
 "metadata": {
  "kernelspec": {
   "display_name": "myenv",
   "language": "python",
   "name": "python3"
  },
  "language_info": {
   "name": "python",
   "version": "3.12.7"
  }
 },
 "nbformat": 4,
 "nbformat_minor": 5
}
