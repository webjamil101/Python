{
 "cells": [
  {
   "cell_type": "markdown",
   "id": "0406728e",
   "metadata": {},
   "source": [
    "**342. Power of Four**\n",
    "\n",
    "**Easy**\n",
    "\n",
    "Given an integer n, return true if it is a power of four. Otherwise, return false.\n",
    "\n",
    "An integer n is a power of four, if there exists an integer x such that n == 4x.\n",
    "\n",
    "**Example 1:**\n",
    "\n",
    "```\n",
    "Input: n = 16\n",
    "Output: true\n",
    "```\n",
    "\n",
    "**Example 2:**\n",
    "\n",
    "```\n",
    "Input: n = 5\n",
    "Output: false\n",
    "```\n",
    "\n",
    "**Example 3:**\n",
    "\n",
    "```\n",
    "Input: n = 1\n",
    "Output: true\n",
    "\n",
    "```\n",
    "\n",
    "**Constraints:**\n",
    "\n",
    "- -231 <= n <= 231 - 1\n"
   ]
  },
  {
   "cell_type": "code",
   "execution_count": null,
   "id": "c4d7e27f",
   "metadata": {},
   "outputs": [],
   "source": [
    "class Solution:\n",
    "    def isPowerOfFour(self, n: int) -> bool:\n",
    "        # Algorithm:\n",
    "        # 1. Handle the edge case: n = 0 is not a power of four.\n",
    "        # 2. Repeatedly divide n by 4 in a loop.\n",
    "        # 3. The loop continues as long as n is divisible by 4.\n",
    "        # 4. After the loop, if n is 1, the original number was a power of four.\n",
    "        \n",
    "        if n == 0:\n",
    "            return False\n",
    "        \n",
    "        while n % 4 == 0:\n",
    "            n //= 4\n",
    "        \n",
    "        return n == 1"
   ]
  },
  {
   "cell_type": "code",
   "execution_count": null,
   "id": "79dd3670",
   "metadata": {},
   "outputs": [],
   "source": [
    "import math\n",
    "\n",
    "class Solution:\n",
    "    def isPowerOfFour(self, n: int) -> bool:\n",
    "        # Algorithm:\n",
    "        # 1. Handle edge cases: n must be a positive integer.\n",
    "        # 2. Calculate log base 4 of n using the formula: log4(n) = log(n) / log(4).\n",
    "        # 3. Check if the result of the logarithm is an integer. Due to floating-point\n",
    "        #    precision, we use a small tolerance to check if the value is very close\n",
    "        #    to its rounded integer value.\n",
    "        \n",
    "        if n <= 0:\n",
    "            return False\n",
    "            \n",
    "        # Calculate log base 4 of n.\n",
    "        log_val = math.log(n, 4)\n",
    "        \n",
    "        # Check for floating-point issues by comparing the log value to its nearest integer.\n",
    "        return abs(log_val - round(log_val)) < 1e-9"
   ]
  },
  {
   "cell_type": "code",
   "execution_count": null,
   "id": "46cd26f3",
   "metadata": {},
   "outputs": [],
   "source": [
    "class Solution:\n",
    "    def isPowerOfFour(self, n: int) -> bool:\n",
    "        # Algorithm:\n",
    "        # 1. Check if n is positive. Powers of four are always positive.\n",
    "        # 2. Check if n is a power of two using bit manipulation: `(n & (n-1)) == 0`.\n",
    "        # 3. Check if the number has a remainder of 1 when divided by 3: `(n - 1) % 3 == 0`.\n",
    "        #    This is a quick way to ensure the single set bit is at an even position.\n",
    "        \n",
    "        return n > 0 and (n & (n - 1)) == 0 and (n - 1) % 3 == 0"
   ]
  }
 ],
 "metadata": {
  "kernelspec": {
   "display_name": "myenv",
   "language": "python",
   "name": "python3"
  },
  "language_info": {
   "name": "python",
   "version": "3.12.7"
  }
 },
 "nbformat": 4,
 "nbformat_minor": 5
}
