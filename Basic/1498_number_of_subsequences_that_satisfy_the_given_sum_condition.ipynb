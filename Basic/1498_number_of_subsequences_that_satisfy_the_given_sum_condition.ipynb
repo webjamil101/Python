{
 "cells": [
  {
   "cell_type": "markdown",
   "id": "fea06d61",
   "metadata": {},
   "source": [
    "1498. Number of Subsequences That Satisfy the Given Sum Condition\n",
    "      Medium\n",
    "      Topics\n",
    "      premium lock icon\n",
    "      Companies\n",
    "      Hint\n",
    "      You are given an array of integers nums and an integer target.\n",
    "\n",
    "Return the number of non-empty subsequences of nums such that the sum of the minimum and maximum element on it is less or equal to target. Since the answer may be too large, return it modulo 109 + 7.\n",
    "\n",
    "Example 1:\n",
    "\n",
    "Input: nums = [3,5,6,7], target = 9\n",
    "Output: 4\n",
    "Explanation: There are 4 subsequences that satisfy the condition.\n",
    "[3] -> Min value + max value <= target (3 + 3 <= 9)\n",
    "[3,5] -> (3 + 5 <= 9)\n",
    "[3,5,6] -> (3 + 6 <= 9)\n",
    "[3,6] -> (3 + 6 <= 9)\n",
    "Example 2:\n",
    "\n",
    "Input: nums = [3,3,6,8], target = 10\n",
    "Output: 6\n",
    "Explanation: There are 6 subsequences that satisfy the condition. (nums can have repeated numbers).\n",
    "[3] , [3] , [3,3], [3,6] , [3,6] , [3,3,6]\n",
    "Example 3:\n",
    "\n",
    "Input: nums = [2,3,3,4,6,7], target = 12\n",
    "Output: 61\n",
    "Explanation: There are 63 non-empty subsequences, two of them do not satisfy the condition ([6,7], [7]).\n",
    "Number of valid subsequences (63 - 2 = 61).\n",
    "\n",
    "Constraints:\n",
    "\n",
    "1 <= nums.length <= 105\n",
    "1 <= nums[i] <= 106\n",
    "1 <= target <= 106\n"
   ]
  }
 ],
 "metadata": {
  "kernelspec": {
   "display_name": "myenv",
   "language": "python",
   "name": "python3"
  },
  "language_info": {
   "name": "python",
   "version": "3.12.7"
  }
 },
 "nbformat": 4,
 "nbformat_minor": 5
}
