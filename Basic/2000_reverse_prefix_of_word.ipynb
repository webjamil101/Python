{
 "cells": [
  {
   "cell_type": "markdown",
   "id": "1b924b6c",
   "metadata": {},
   "source": [
    "**2000. Reverse Prefix of Word**\n",
    "\n",
    "**Easy**\n",
    "\n",
    "**Companies**\n",
    "\n",
    "Given a 0-indexed string word and a character ch, reverse the segment of word that starts at index 0 and ends at the index of the first occurrence of ch (inclusive). If the character ch does not exist in word, do nothing.\n",
    "\n",
    "For example, if word = \"abcdefd\" and ch = \"d\", then you should reverse the segment that starts at 0 and ends at 3 (inclusive). The resulting string will be \"dcbaefd\".\n",
    "Return the resulting string.\n",
    "\n",
    " \n",
    "\n",
    "**Example 1:**\n",
    "```python\n",
    "Input: word = \"abcdefd\", ch = \"d\"\n",
    "Output: \"dcbaefd\"\n",
    "```\n",
    "**Explanation:** The first occurrence of \"d\" is at index 3. \n",
    "Reverse the part of word from 0 to 3 (inclusive), the resulting string is \"dcbaefd\".\n",
    "\n",
    "**Example 2:**\n",
    "```python\n",
    "Input: word = \"xyxzxe\", ch = \"z\"\n",
    "Output: \"zxyxxe\"\n",
    "```\n",
    "**Explanation:** The first and only occurrence of \"z\" is at index 3.\n",
    "Reverse the part of word from 0 to 3 (inclusive), the resulting string is \"zxyxxe\".\n",
    "\n",
    "**Example 3:**\n",
    "```python\n",
    "Input: word = \"abcd\", ch = \"z\"\n",
    "Output: \"abcd\"\n",
    "```\n",
    "**Explanation:** \"z\" does not exist in word.\n",
    "You should not do any reverse operation, the resulting string is \"abcd\".\n",
    " \n",
    "\n",
    "**Constraints:**\n",
    "\n",
    "- 1 <= word.length <= 250\n",
    "- word consists of lowercase English letters.\n",
    "- ch is a lowercase English letter."
   ]
  },
  {
   "cell_type": "code",
   "execution_count": null,
   "id": "ad366b8c",
   "metadata": {},
   "outputs": [],
   "source": [
    "class Solution:\n",
    "    def reversePrefix(self, word: str, ch: str) -> str:\n",
    "        # Step 1: Find first occurrence of ch\n",
    "        idx = word.find(ch)\n",
    "        if idx == -1:\n",
    "            return word  # ch not found\n",
    "        \n",
    "        # Step 2: Reverse prefix and concatenate\n",
    "        return word[:idx + 1][::-1] + word[idx + 1:]\n"
   ]
  },
  {
   "cell_type": "code",
   "execution_count": null,
   "id": "989f37a0",
   "metadata": {},
   "outputs": [],
   "source": [
    "class Solution:\n",
    "    def reversePrefix(self, word: str, ch: str) -> str:\n",
    "        # Step 1: Find the index manually\n",
    "        idx = -1\n",
    "        for i in range(len(word)):\n",
    "            if word[i] == ch:\n",
    "                idx = i\n",
    "                break\n",
    "        \n",
    "        if idx == -1:\n",
    "            return word  # ch not found\n",
    "        \n",
    "        # Step 2: Reverse prefix and append the rest\n",
    "        reversed_part = ''.join(reversed(word[:idx + 1]))\n",
    "        return reversed_part + word[idx + 1:]\n"
   ]
  },
  {
   "cell_type": "code",
   "execution_count": null,
   "id": "28a52cfa",
   "metadata": {},
   "outputs": [],
   "source": [
    "class Solution:\n",
    "    def reversePrefix(self, word: str, ch: str) -> str:\n",
    "        chars = list(word)\n",
    "        \n",
    "        try:\n",
    "            idx = chars.index(ch)\n",
    "        except ValueError:\n",
    "            return word  # ch not in word\n",
    "        \n",
    "        # Two-pointer reverse from 0 to idx\n",
    "        left, right = 0, idx\n",
    "        while left < right:\n",
    "            chars[left], chars[right] = chars[right], chars[left]\n",
    "            left += 1\n",
    "            right -= 1\n",
    "        \n",
    "        return ''.join(chars)\n"
   ]
  },
  {
   "cell_type": "code",
   "execution_count": null,
   "id": "ef1da29c",
   "metadata": {},
   "outputs": [],
   "source": [
    "class Solution:\n",
    "    def reversePrefix(self, word: str, ch: str) -> str:\n",
    "        i = word.find(ch)\n",
    "        return word[:i+1][::-1] + word[i+1:] if i != -1 else word\n"
   ]
  }
 ],
 "metadata": {
  "kernelspec": {
   "display_name": "Python 3",
   "language": "python",
   "name": "python3"
  },
  "language_info": {
   "name": "python",
   "version": "3.12.10"
  }
 },
 "nbformat": 4,
 "nbformat_minor": 5
}
