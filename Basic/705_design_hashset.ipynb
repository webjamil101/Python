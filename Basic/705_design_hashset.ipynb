{
 "cells": [
  {
   "cell_type": "markdown",
   "id": "5008b433",
   "metadata": {},
   "source": [
    "**705. Design HashSet**\n",
    "\n",
    "**Easy**\n",
    "\n",
    "**Companies**: **Google**\n",
    "\n",
    "Design a HashSet without using any built-in hash table libraries.\n",
    "\n",
    "Implement MyHashSet class:\n",
    "\n",
    "- void add(key) Inserts the value key into the HashSet.\n",
    "- bool contains(key) Returns whether the value key exists in the HashSet or not.\n",
    "- void remove(key) Removes the value key in the HashSet. If key does not exist in the HashSet, do nothing.\n",
    "\n",
    "**Example 1:**\n",
    "\n",
    "```python\n",
    "Input\n",
    "[\"MyHashSet\", \"add\", \"add\", \"contains\", \"contains\", \"add\", \"contains\", \"remove\", \"contains\"]\n",
    "[[], [1], [2], [1], [3], [2], [2], [2], [2]]\n",
    "Output\n",
    "[null, null, null, true, false, null, true, null, false]\n",
    "```\n",
    "\n",
    "**Explanation**\n",
    "\n",
    "- MyHashSet myHashSet = new MyHashSet();\n",
    "- myHashSet.add(1); // set = [1]\n",
    "- myHashSet.add(2); // set = [1, 2]\n",
    "- myHashSet.contains(1); // return True\n",
    "- myHashSet.contains(3); // return False, (not found)\n",
    "- myHashSet.add(2); // set = [1, 2]\n",
    "- myHashSet.contains(2); // return True\n",
    "- myHashSet.remove(2); // set = [1]\n",
    "- myHashSet.contains(2); // return False, (already removed)\n",
    "\n",
    "**Constraints:**\n",
    "\n",
    "- 0 <= key <= 106\n",
    "- At most 104 calls will be made to add, remove, and contains.\n"
   ]
  }
 ],
 "metadata": {
  "kernelspec": {
   "display_name": "myenv",
   "language": "python",
   "name": "python3"
  },
  "language_info": {
   "name": "python",
   "version": "3.12.7"
  }
 },
 "nbformat": 4,
 "nbformat_minor": 5
}
