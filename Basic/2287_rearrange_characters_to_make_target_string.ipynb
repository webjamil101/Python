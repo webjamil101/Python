{
 "cells": [
  {
   "cell_type": "markdown",
   "id": "6705231b",
   "metadata": {},
   "source": [
    "2287. Rearrange Characters to Make Target String\n",
    "      Easy\n",
    "      Topics\n",
    "      premium lock icon\n",
    "      Companies\n",
    "      Hint\n",
    "      You are given two 0-indexed strings s and target. You can take some letters from s and rearrange them to form new strings.\n",
    "\n",
    "Return the maximum number of copies of target that can be formed by taking letters from s and rearranging them.\n",
    "\n",
    "Example 1:\n",
    "\n",
    "Input: s = \"ilovecodingonleetcode\", target = \"code\"\n",
    "Output: 2\n",
    "Explanation:\n",
    "For the first copy of \"code\", take the letters at indices 4, 5, 6, and 7.\n",
    "For the second copy of \"code\", take the letters at indices 17, 18, 19, and 20.\n",
    "The strings that are formed are \"ecod\" and \"code\" which can both be rearranged into \"code\".\n",
    "We can make at most two copies of \"code\", so we return 2.\n",
    "Example 2:\n",
    "\n",
    "Input: s = \"abcba\", target = \"abc\"\n",
    "Output: 1\n",
    "Explanation:\n",
    "We can make one copy of \"abc\" by taking the letters at indices 0, 1, and 2.\n",
    "We can make at most one copy of \"abc\", so we return 1.\n",
    "Note that while there is an extra 'a' and 'b' at indices 3 and 4, we cannot reuse the letter 'c' at index 2, so we cannot make a second copy of \"abc\".\n",
    "Example 3:\n",
    "\n",
    "Input: s = \"abbaccaddaeea\", target = \"aaaaa\"\n",
    "Output: 1\n",
    "Explanation:\n",
    "We can make one copy of \"aaaaa\" by taking the letters at indices 0, 3, 6, 9, and 12.\n",
    "We can make at most one copy of \"aaaaa\", so we return 1.\n",
    "\n",
    "Constraints:\n",
    "\n",
    "1 <= s.length <= 100\n",
    "1 <= target.length <= 10\n",
    "s and target consist of lowercase English letters.\n",
    "\n",
    "Note: This question is the same as 1189: Maximum Number of Balloons.\n"
   ]
  },
  {
   "cell_type": "code",
   "execution_count": null,
   "id": "995f4a1c",
   "metadata": {},
   "outputs": [],
   "source": [
    "from collections import Counter\n",
    "\n",
    "def rearrange_characters(s: str, target: str) -> int:\n",
    "    count_s = Counter(s)\n",
    "    count_target = Counter(target)\n",
    "    \n",
    "    return min(count_s[char] // count_target[char] for char in count_target)\n",
    "# Example Cases\n",
    "print(rearrange_characters(\"ilovecodingonleetcode\", \"code\"))     # Output: 2\n",
    "print(rearrange_characters(\"abcba\", \"abc\"))                       # Output: 1\n",
    "print(rearrange_characters(\"abbaccaddaeea\", \"aaaaa\"))            # Output: 1\n",
    "\n",
    "# 🔍 Edge Cases\n",
    "print(rearrange_characters(\"xyz\", \"aaa\"))                         # Output: 0 (no 'a's)\n",
    "print(rearrange_characters(\"aaaaa\", \"aaaaaa\"))                    # Output: 0 (not enough 'a's)\n",
    "print(rearrange_characters(\"abcabcabcabc\", \"abcabc\"))            # Output: 2\n",
    "print(rearrange_characters(\"a\", \"a\"))                             # Output: 1\n",
    "print(rearrange_characters(\"abc\", \"def\"))                         # Output: 0"
   ]
  }
 ],
 "metadata": {
  "kernelspec": {
   "display_name": "myenv",
   "language": "python",
   "name": "python3"
  },
  "language_info": {
   "name": "python",
   "version": "3.12.7"
  }
 },
 "nbformat": 4,
 "nbformat_minor": 5
}
