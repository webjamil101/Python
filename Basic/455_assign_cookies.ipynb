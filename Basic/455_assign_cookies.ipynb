{
 "cells": [
  {
   "cell_type": "markdown",
   "id": "0bb39200",
   "metadata": {},
   "source": [
    "# 455. Assign Cookies\n",
    "\n",
    "# Easy\n",
    "\n",
    "      Assume you are an awesome parent and want to give your children some cookies. But, you should give each child at most one cookie.\n",
    "\n",
    "Each child i has a greed factor g[i], which is the minimum size of a cookie that the child will be content with; and each cookie j has a size s[j]. If s[j] >= g[i], we can assign the cookie j to the child i, and the child i will be content. Your goal is to maximize the number of your content children and output the maximum number.\n",
    "\n",
    "# Example 1:\n",
    "\n",
    "```\n",
    "Input: g = [1,2,3], s = [1,1]\n",
    "Output: 1\n",
    "Explanation: You have 3 children and 2 cookies. The greed factors of 3 children are 1, 2, 3.\n",
    "And even though you have 2 cookies, since their size is both 1, you could only make the child whose greed factor is 1 content.\n",
    "You need to output 1.\n",
    "```\n",
    "\n",
    "# Example 2:\n",
    "\n",
    "```\n",
    "Input: g = [1,2], s = [1,2,3]\n",
    "Output: 2\n",
    "Explanation: You have 2 children and 3 cookies. The greed factors of 2 children are 1, 2.\n",
    "You have 3 cookies and their sizes are big enough to gratify all of the children,\n",
    "You need to output 2.\n",
    "```\n",
    "\n",
    "# Constraints:\n",
    "\n",
    "- 1 <= g.length <= 3 \\_ 10^4\n",
    "- 0 <= s.length <= 3 \\_ 10^4\n",
    "- 1 <= g[i], s[j] <= 2^31 - 1\n",
    "\n",
    "> Note: This question is the same as 2410: Maximum Matching of Players With Trainers.\n"
   ]
  },
  {
   "cell_type": "code",
   "execution_count": null,
   "id": "f9a7b348",
   "metadata": {},
   "outputs": [],
   "source": [
    "class Solution:\n",
    "    def findContentChildren(self, g: list[int], s: list[int]) -> int:\n",
    "        g.sort()\n",
    "        s.sort()\n",
    "        \n",
    "        child = cookie = 0\n",
    "        while child < len(g) and cookie < len(s):\n",
    "            if g[child] <= s[cookie]:\n",
    "                child += 1\n",
    "            cookie += 1\n",
    "        \n",
    "        return child\n",
    "sol = Solution()\n",
    "\n",
    "# ✅ Basic Examples\n",
    "print(sol.findContentChildren([1,2,3], [1,1]))       # Output: 1\n",
    "print(sol.findContentChildren([1,2], [1,2,3]))       # Output: 2\n",
    "\n",
    "# 🔍 Edge Cases\n",
    "print(sol.findContentChildren([], [1,2,3]))          # Output: 0 (no children)\n",
    "print(sol.findContentChildren([1,2,3], []))          # Output: 0 (no cookies)\n",
    "print(sol.findContentChildren([1], [1]))             # Output: 1 (perfect match)\n",
    "print(sol.findContentChildren([2], [1]))             # Output: 0 (cookie too small)\n",
    "print(sol.findContentChildren([1,2,3], [3,3,3]))      # Output: 3 (all match)\n",
    "print(sol.findContentChildren([1,2,3,4], [1,2,3]))    # Output: 3 (last child unmatched)"
   ]
  }
 ],
 "metadata": {
  "kernelspec": {
   "display_name": "myenv",
   "language": "python",
   "name": "python3"
  },
  "language_info": {
   "name": "python",
   "version": "3.12.7"
  }
 },
 "nbformat": 4,
 "nbformat_minor": 5
}
