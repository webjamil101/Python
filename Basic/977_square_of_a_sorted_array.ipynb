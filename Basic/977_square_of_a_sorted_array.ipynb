{
 "cells": [
  {
   "cell_type": "markdown",
   "id": "a48495d2",
   "metadata": {},
   "source": [
    "**977. Squares of a Sorted Array**\n",
    "\n",
    "**Easy**\n",
    "\n",
    "**Companies**:Adobe Amazon Apple eBay Electronic Arts Facebook Google Microsoft Nutanix Twitch Uber VMware Walmart Labs\n",
    "\n",
    "Given an integer array nums sorted in non-decreasing order, return an array of the squares of each number sorted in non-decreasing order.\n",
    "\n",
    "**Example 1:**\n",
    "\n",
    "Input: nums = [-4,-1,0,3,10]\n",
    "Output: [0,1,9,16,100]\n",
    "\n",
    "**Explanation:** After squaring, the array becomes [16,1,0,9,100].\n",
    "After sorting, it becomes [0,1,9,16,100].\n",
    "\n",
    "**Example 2:**\n",
    "\n",
    "Input: nums = [-7,-3,2,3,11]\n",
    "Output: [4,9,9,49,121]\n",
    "\n",
    "**Constraints:**\n",
    "\n",
    "- 1 <= nums.length <= 104\n",
    "- -104 <= nums[i] <= 104\n",
    "- nums is sorted in non-decreasing order.\n"
   ]
  },
  {
   "cell_type": "code",
   "execution_count": null,
   "id": "1082c9de",
   "metadata": {},
   "outputs": [],
   "source": [
    "'''\n",
    "1. Square each element.\n",
    "\n",
    "2. Sort the resulting array.\n",
    "Time Complexity: O(n log n) due to sorting.\n",
    "\n",
    "'''\n",
    "class Solution:\n",
    "    def sortedSquares(self, nums: List[int]) -> List[int]:\n",
    "        return sorted(x * x for x in nums)\n"
   ]
  },
  {
   "cell_type": "code",
   "execution_count": null,
   "id": "f8a99433",
   "metadata": {},
   "outputs": [],
   "source": [
    "'''\n",
    "1. Since the array is sorted, the largest squares will come from either the leftmost (most negative) or rightmost values.\n",
    "\n",
    "2. Use two pointers to fill the output array from the end.\n",
    "\n",
    "Time Complexity: O(n)\n",
    "Space Complexity: O(n)\n",
    "\n",
    "'''\n",
    "\n",
    "class Solution:\n",
    "    def sortedSquares(self, nums: List[int]) -> List[int]:\n",
    "        n = len(nums)\n",
    "        result = [0] * n\n",
    "        left, right = 0, n - 1\n",
    "        pos = n - 1\n",
    "\n",
    "        while left <= right:\n",
    "            left_sq = nums[left] * nums[left]\n",
    "            right_sq = nums[right] * nums[right]\n",
    "            if left_sq > right_sq:\n",
    "                result[pos] = left_sq\n",
    "                left += 1\n",
    "            else:\n",
    "                result[pos] = right_sq\n",
    "                right -= 1\n",
    "            pos -= 1\n",
    "\n",
    "        return result\n"
   ]
  }
 ],
 "metadata": {
  "kernelspec": {
   "display_name": "myenv",
   "language": "python",
   "name": "python3"
  },
  "language_info": {
   "name": "python",
   "version": "3.12.7"
  }
 },
 "nbformat": 4,
 "nbformat_minor": 5
}
