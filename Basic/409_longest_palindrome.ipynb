{
 "cells": [
  {
   "cell_type": "markdown",
   "id": "eec7a896",
   "metadata": {},
   "source": [
    "**409. Longest Palindrome**\n",
    "\n",
    "**Easy**\n",
    "\n",
    "**Companies**\n",
    "\n",
    "Given a string s which consists of lowercase or uppercase letters, return the length of the longest palindrome that can be built with those letters.\n",
    "\n",
    "Letters are case sensitive, for example, \"Aa\" is not considered a palindrome.\n",
    "\n",
    " \n",
    "\n",
    "**Example 1:**\n",
    "```python\n",
    "Input: s = \"abccccdd\"\n",
    "Output: 7\n",
    "```\n",
    "**Explanation:** One longest palindrome that can be built is \"dccaccd\", whose length is 7.\n",
    "\n",
    "**Example 2:**\n",
    "```python\n",
    "Input: s = \"a\"\n",
    "Output: 1\n",
    "```\n",
    "**Explanation:** The longest palindrome that can be built is \"a\", whose length is 1.\n",
    " \n",
    "\n",
    "**onstraints:**\n",
    "\n",
    "- 1 <= s.length <= 2000\n",
    "- s consists of lowercase and/or uppercase English letters only."
   ]
  },
  {
   "cell_type": "code",
   "execution_count": null,
   "id": "e2846904",
   "metadata": {},
   "outputs": [],
   "source": [
    "from collections import Counter\n",
    "\n",
    "class Solution:\n",
    "    def longestPalindrome(self, s: str) -> int:\n",
    "        # Count occurrences of each character\n",
    "        count = Counter(s)\n",
    "        length = 0\n",
    "        odd_found = False\n",
    "        \n",
    "        # Iterate over character frequencies\n",
    "        for char, freq in count.items():\n",
    "            # Add even part\n",
    "            length += (freq // 2) * 2\n",
    "            # If odd character exists, it can be placed in the center\n",
    "            if freq % 2 == 1:\n",
    "                odd_found = True\n",
    "        \n",
    "        # If there's at least one odd character, we can add one in the middle\n",
    "        return length + 1 if odd_found else length\n"
   ]
  },
  {
   "cell_type": "code",
   "execution_count": null,
   "id": "bd3765f8",
   "metadata": {},
   "outputs": [],
   "source": [
    "class Solution:\n",
    "    def longestPalindrome(self, s: str) -> int:\n",
    "        odd_chars = set()\n",
    "        \n",
    "        # Add/remove characters based on their parity\n",
    "        for char in s:\n",
    "            if char in odd_chars:\n",
    "                odd_chars.remove(char)\n",
    "            else:\n",
    "                odd_chars.add(char)\n",
    "        \n",
    "        # All characters can be used except the odd ones.\n",
    "        # We can use one odd in the middle if any exists.\n",
    "        return len(s) - len(odd_chars) + (1 if len(odd_chars) > 0 else 0)\n"
   ]
  },
  {
   "cell_type": "code",
   "execution_count": null,
   "id": "b06dc89c",
   "metadata": {},
   "outputs": [],
   "source": [
    "class Solution:\n",
    "    def longestPalindrome(self, s: str) -> int:\n",
    "        counts = [0] * 128  # ASCII\n",
    "        for char in s:\n",
    "            counts[ord(char)] += 1\n",
    "        \n",
    "        length = 0\n",
    "        odd_found = False\n",
    "        \n",
    "        for count in counts:\n",
    "            length += (count // 2) * 2\n",
    "            if count % 2 == 1:\n",
    "                odd_found = True\n",
    "        \n",
    "        return length + 1 if odd_found else length\n"
   ]
  }
 ],
 "metadata": {
  "kernelspec": {
   "display_name": "Python 3",
   "language": "python",
   "name": "python3"
  },
  "language_info": {
   "name": "python",
   "version": "3.12.10"
  }
 },
 "nbformat": 4,
 "nbformat_minor": 5
}
