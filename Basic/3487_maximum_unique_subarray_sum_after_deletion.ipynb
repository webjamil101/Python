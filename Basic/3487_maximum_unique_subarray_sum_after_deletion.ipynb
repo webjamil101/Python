{
 "cells": [
  {
   "cell_type": "markdown",
   "id": "4f29b2de",
   "metadata": {},
   "source": [
    "# 3487. Maximum Unique Subarray Sum After Deletion\n",
    "\n",
    "**Easy**\n",
    "\n",
    "You are given an integer array nums.\n",
    "\n",
    "You are allowed to delete any number of elements from nums without making it empty. After performing the deletions, select a subarray of nums such that:\n",
    "\n",
    "All elements in the subarray are unique.\n",
    "The sum of the elements in the subarray is maximized.\n",
    "Return the maximum sum of such a subarray.\n",
    "\n",
    "# Example 1:\n",
    "\n",
    "Input: nums = [1,2,3,4,5]\n",
    "\n",
    "Output: 15\n",
    "\n",
    "**Explanation**:\n",
    "\n",
    "Select the entire array without deleting any element to obtain the maximum sum.\n",
    "\n",
    "# Example 2:\n",
    "\n",
    "Input: nums = [1,1,0,1,1]\n",
    "\n",
    "Output: 1\n",
    "\n",
    "**Explanation**:\n",
    "\n",
    "Delete the element nums[0] == 1, nums[1] == 1, nums[2] == 0, and nums[3] == 1. Select the entire array [1] to obtain the maximum sum.\n",
    "\n",
    "# Example 3:\n",
    "\n",
    "Input: nums = [1,2,-1,-2,1,0,-1]\n",
    "\n",
    "Output: 3\\*\\*\n",
    "\n",
    "**Explanation**:\n",
    "\n",
    "Delete the elements nums[2] == -1 and nums[3] == -2, and select the subarray [2, 1] from [1, 2, 1, 0, -1] to obtain the maximum sum.\n",
    "\n",
    "**Constraints**:\n",
    "\n",
    "- 1 <= nums.length <= 100\n",
    "- -100 <= nums[i] <= 100\n"
   ]
  },
  {
   "cell_type": "code",
   "execution_count": null,
   "id": "14b174f2",
   "metadata": {},
   "outputs": [],
   "source": [
    "class Solution:\n",
    "    def maxSum(self, nums: List[int]) -> int:\n",
    "        seen=set()\n",
    "\t\ttotal=0\n",
    "\t\tmax_neg=float(-inf)\n",
    "\t\tfor num in nums:\n",
    "\t\t\tif num <=0:\n",
    "\t\t\t\tmax_neg=max(max_neg, num)\n",
    "\t\t\telif num not in seen():\n",
    "\t\t\t\ttotal += num\n",
    "\t\t\t\t# total = total+num\n",
    "\t\t\t\tseen.add(num)\n",
    "\t\treturn total if  total"
   ]
  }
 ],
 "metadata": {
  "kernelspec": {
   "display_name": "Python 3",
   "language": "python",
   "name": "python3"
  },
  "language_info": {
   "name": "python",
   "version": "3.12.7"
  }
 },
 "nbformat": 4,
 "nbformat_minor": 5
}
