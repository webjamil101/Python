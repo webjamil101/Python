{
 "cells": [
  {
   "cell_type": "markdown",
   "id": "01510df6",
   "metadata": {},
   "source": [
    "**326. Power of Three**\n",
    "\n",
    "**Easy**\n",
    "\n",
    "Given an integer n, return true if it is a power of three. Otherwise, return false.\n",
    "\n",
    "An integer n is a power of three, if there exists an integer x such that n == 3x.\n",
    "\n",
    "**Example 1:**\n",
    "\n",
    "```python\n",
    "Input: n = 27\n",
    "Output: true\n",
    "```\n",
    "\n",
    "**Explanation**: 27 = 33\n",
    "\n",
    "**Example 2:**\n",
    "\n",
    "```python\n",
    "Input: n = 0\n",
    "Output: false\n",
    "```\n",
    "\n",
    "**Explanation:** There is no x where 3x = 0.\n",
    "**Example 3:**\n",
    "\n",
    "```python\n",
    "Input: n = -1\n",
    "Output: false\n",
    "```\n",
    "\n",
    "**Explanation:** There is no x where 3x = (-1).\n",
    "\n",
    "**Constraints:**\n",
    "\n",
    "- -231 <= n <= 231 - 1\n",
    "\n",
    "> Follow up: Could you solve it without loops/recursion?\n"
   ]
  },
  {
   "cell_type": "code",
   "execution_count": null,
   "id": "ae9e5135",
   "metadata": {},
   "outputs": [],
   "source": [
    "class Solution:\n",
    "    def isPowerOfThree(self, n: int) -> bool:\n",
    "        if n <= 0:\n",
    "            return False\n",
    "        while n % 3 == 0:\n",
    "            n //= 3\n",
    "        return n == 1"
   ]
  },
  {
   "cell_type": "code",
   "execution_count": null,
   "id": "6b5d9a71",
   "metadata": {},
   "outputs": [],
   "source": [
    "import math\n",
    "\n",
    "class Solution:\n",
    "    def isPowerOfThree(self, n: int) -> bool:\n",
    "        # Check for n > 0 because log is undefined for non-positive numbers\n",
    "        return n > 0 and math.log10(n) / math.log10(3) % 1 == 0"
   ]
  },
  {
   "cell_type": "code",
   "execution_count": null,
   "id": "6d3f2149",
   "metadata": {},
   "outputs": [],
   "source": [
    "class Solution:\n",
    "    def isPowerOfThree(self, n: int) -> bool:\n",
    "        # Largest power of 3 that fits in a signed 32-bit integer is 3^19\n",
    "        # This is 1162261467\n",
    "        \n",
    "        # A positive integer n is a power of three if and only if \n",
    "        # it divides the largest power of three.\n",
    "        # This works because 1162261467 is only divisible by powers of 3.\n",
    "        return n > 0 and 1162261467 % n == 0"
   ]
  },
  {
   "cell_type": "code",
   "execution_count": null,
   "id": "c53a3e55",
   "metadata": {},
   "outputs": [],
   "source": [
    "class Solution:\n",
    "    def isPowerOfThree(self, n: int) -> bool:\n",
    "        # Algorithm:\n",
    "        # 1. Handle edge cases: numbers less than or equal to 0 are not powers of three.\n",
    "        # 2. Use a loop that continues as long as n is divisible by 3.\n",
    "        # 3. Inside the loop, divide n by 3.\n",
    "        # 4. After the loop, if n has been reduced to 1, it was a power of three.\n",
    "        \n",
    "        if n <= 0:\n",
    "            return False\n",
    "            \n",
    "        while n % 3 == 0:\n",
    "            n //= 3\n",
    "            \n",
    "        return n == 1"
   ]
  },
  {
   "cell_type": "code",
   "execution_count": null,
   "id": "6353281d",
   "metadata": {},
   "outputs": [],
   "source": [
    "class Solution:\n",
    "    def isPowerOfThree(self, n: int) -> bool:\n",
    "        # Algorithm:\n",
    "        # 1. Base case: if n is 1, it is a power of three.\n",
    "        # 2. Base case: if n is less than or equal to 0 or not divisible by 3, it is not a power of three.\n",
    "        # 3. Recursive step: return the result of calling the function with n divided by 3.\n",
    "        \n",
    "        if n == 1:\n",
    "            return True\n",
    "        if n <= 0 or n % 3 != 0:\n",
    "            return False\n",
    "            \n",
    "        return self.isPowerOfThree(n // 3)"
   ]
  },
  {
   "cell_type": "code",
   "execution_count": null,
   "id": "cb0389e3",
   "metadata": {},
   "outputs": [],
   "source": [
    "class Solution:\n",
    "    def isPowerOfThree(self, n: int) -> bool:\n",
    "        # Algorithm:\n",
    "        # 1. The largest power of 3 that fits within a 32-bit signed integer is 3^19 (1162261467).\n",
    "        # 2. Any positive integer 'n' that is also a power of 3 must be a divisor of 3^19.\n",
    "        # 3. We check if n is positive and if 1162261467 is perfectly divisible by n.\n",
    "        \n",
    "        largest_power_of_3 = 1162261467\n",
    "        return n > 0 and largest_power_of_3 % n == 0"
   ]
  },
  {
   "cell_type": "code",
   "execution_count": null,
   "id": "ef8fdf8a",
   "metadata": {},
   "outputs": [],
   "source": [
    "import math\n",
    "\n",
    "class Solution:\n",
    "    def isPowerOfThree(self, n: int) -> bool:\n",
    "        # Algorithm:\n",
    "        # 1. Handle edge cases: n must be a positive integer.\n",
    "        # 2. Calculate the logarithm base 3 of n using the change of base formula.\n",
    "        # 3. Check if the result is an integer. Due to floating-point precision issues,\n",
    "        #    we check if the result is very close to its rounded integer value.\n",
    "        \n",
    "        if n <= 0:\n",
    "            return False\n",
    "            \n",
    "        # Using logarithms to check if log3(n) is an integer.\n",
    "        log_val = math.log(n, 3)\n",
    "        \n",
    "        # Check for floating-point precision issues by comparing the log value\n",
    "        # to its nearest integer. A small tolerance (epsilon) can be used,\n",
    "        # but a simple round and check is often sufficient.\n",
    "        return abs(log_val - round(log_val)) < 1e-9"
   ]
  }
 ],
 "metadata": {
  "kernelspec": {
   "display_name": "myenv",
   "language": "python",
   "name": "python3"
  },
  "language_info": {
   "name": "python",
   "version": "3.12.7"
  }
 },
 "nbformat": 4,
 "nbformat_minor": 5
}
