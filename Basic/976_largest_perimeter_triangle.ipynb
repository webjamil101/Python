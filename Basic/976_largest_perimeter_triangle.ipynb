{
 "cells": [
  {
   "cell_type": "markdown",
   "id": "8d1319bf",
   "metadata": {},
   "source": [
    "**976. Largest Perimeter Triangle**\n",
    "\n",
    "**Easy**\n",
    "\n",
    "**Companies**\n",
    "Given an integer array nums, return the largest perimeter of a triangle with a non-zero area, formed from three of these lengths. If it is impossible to form any triangle of a non-zero area, return 0.\n",
    "\n",
    " \n",
    "\n",
    "**Example 1:**\n",
    "```python\n",
    "Input: nums = [2,1,2]\n",
    "Output: 5\n",
    "```\n",
    "**Explanation:** You can form a triangle with three side lengths: 1, 2, and 2.\n",
    "\n",
    "**Example 2:**\n",
    "```python\n",
    "Input: nums = [1,2,1,10]\n",
    "Output: 0\n",
    "```\n",
    "**Explanation:** \n",
    "You cannot use the side lengths 1, 1, and 2 to form a triangle.\n",
    "You cannot use the side lengths 1, 1, and 10 to form a triangle.\n",
    "You cannot use the side lengths 1, 2, and 10 to form a triangle.\n",
    "As we cannot use any three side lengths to form a triangle of non-zero area, we return 0.\n",
    " \n",
    "\n",
    "**Constraints:**\n",
    "\n",
    "- 3 <= nums.length <= 104\n",
    "- 1 <= nums[i] <= 106"
   ]
  },
  {
   "cell_type": "code",
   "execution_count": null,
   "id": "865ecfb5",
   "metadata": {},
   "outputs": [],
   "source": [
    "# Approach 1: Greedy + Sorting\n",
    "# Algorithm:\n",
    "# 1. Sort the array in descending order.\n",
    "# 2. Loop through the array, checking every triplet (i, i+1, i+2).\n",
    "# 3. For a valid triangle with sides a, b, c (a ≥ b ≥ c), check:\n",
    "#    If b + c > a → valid triangle\n",
    "# 4. If valid, return perimeter (a + b + c)\n",
    "# 5. If no valid triangle found, return 0\n",
    "# Time Complexity: O(n log n)\n",
    "# Space Complexity: O(1)\n",
    "\n",
    "class Solution:\n",
    "    def largestPerimeter(self, nums: List[int]) -> int:\n",
    "        nums.sort(reverse=True)\n",
    "        for i in range(len(nums) - 2):\n",
    "            a, b, c = nums[i], nums[i+1], nums[i+2]\n",
    "            if b + c > a:\n",
    "                return a + b + c\n",
    "        return 0\n"
   ]
  },
  {
   "cell_type": "code",
   "execution_count": null,
   "id": "6fdcc897",
   "metadata": {},
   "outputs": [],
   "source": [
    "# Approach 2: Brute Force (Not optimal for large n)\n",
    "# Algorithm:\n",
    "# 1. Try all combinations of 3 sides (a, b, c)\n",
    "# 2. For each triplet, check if triangle inequality holds:\n",
    "#    a + b > c, a + c > b, b + c > a\n",
    "# 3. If valid, calculate perimeter and track max\n",
    "# 4. Return the largest valid perimeter\n",
    "# Time Complexity: O(n^3)\n",
    "# Space Complexity: O(1)\n",
    "\n",
    "class Solution:\n",
    "    def largestPerimeter(self, nums: List[int]) -> int:\n",
    "        max_perimeter = 0\n",
    "        n = len(nums)\n",
    "        for i in range(n):\n",
    "            for j in range(i + 1, n):\n",
    "                for k in range(j + 1, n):\n",
    "                    a, b, c = nums[i], nums[j], nums[k]\n",
    "                    if a + b > c and a + c > b and b + c > a:\n",
    "                        max_perimeter = max(max_perimeter, a + b + c)\n",
    "        return max_perimeter\n"
   ]
  }
 ],
 "metadata": {
  "kernelspec": {
   "display_name": "myenv",
   "language": "python",
   "name": "python3"
  },
  "language_info": {
   "name": "python",
   "version": "3.13.7"
  }
 },
 "nbformat": 4,
 "nbformat_minor": 5
}
