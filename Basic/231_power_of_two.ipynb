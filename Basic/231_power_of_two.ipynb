{
 "cells": [
  {
   "cell_type": "markdown",
   "id": "3ddc3da9",
   "metadata": {},
   "source": [
    "# 231. Power of Two\n",
    "\n",
    "**Easy**\n",
    "\n",
    "Given an integer n, return true if it is a power of two. Otherwise, return false.\n",
    "\n",
    "An integer n is a power of two, if there exists an integer x such that n == 2x.\n",
    "\n",
    "# Example 1:\n",
    "\n",
    "```python\n",
    "Input: n = 1\n",
    "Output: true\n",
    "```\n",
    "\n",
    "**Explanation**: 20 = 1\n",
    "\n",
    "# Example 2:\n",
    "\n",
    "```python\n",
    "Input: n = 16\n",
    "Output: true\n",
    "```\n",
    "\n",
    "**Explanation**: 24 = 16\n",
    "\n",
    "# Example 3:\n",
    "\n",
    "Input: n = 3\n",
    "Output: false\n",
    "\n",
    "**Constraints**:\n",
    "\n",
    "- -231 <= n <= 231 - 1\n"
   ]
  },
  {
   "cell_type": "code",
   "execution_count": null,
   "id": "df35aa37",
   "metadata": {},
   "outputs": [],
   "source": [
    "class Solution:\n",
    "    def isPowerOfTwo(self, n: int) -> bool:\n",
    "        if n <= 0:\n",
    "            return False\n",
    "        while n % 2 == 0:\n",
    "            n //= 2\n",
    "        return n == 1"
   ]
  },
  {
   "cell_type": "code",
   "execution_count": null,
   "id": "97786eb5",
   "metadata": {},
   "outputs": [],
   "source": [
    "class Solution:\n",
    "    def isPowerOfTwo(self, n: int) -> bool:\n",
    "        if n <= 0:\n",
    "            return False\n",
    "        return (n & (n - 1)) == 0"
   ]
  },
  {
   "cell_type": "code",
   "execution_count": null,
   "id": "e7aff4e7",
   "metadata": {},
   "outputs": [],
   "source": [
    "class Solution:\n",
    "    def isPowerOfTwo(self, n: int) -> bool:\n",
    "        if n <= 0:\n",
    "            return False\n",
    "        return bin(n).count('1') == 1"
   ]
  },
  {
   "cell_type": "code",
   "execution_count": null,
   "id": "91d51a9d",
   "metadata": {},
   "outputs": [],
   "source": [
    "class Solution:\n",
    "    def isPowerOfTwo(self, n: int) -> bool:\n",
    "        if n <= 0:\n",
    "            return False\n",
    "        # 2^30 is the largest power of 2 that fits in a signed 32-bit integer.\n",
    "        # This constant is 1073741824.\n",
    "        # Any power of two must divide a larger power of two.\n",
    "        return 1073741824 % n == 0"
   ]
  },
  {
   "cell_type": "code",
   "execution_count": null,
   "id": "38320ae8",
   "metadata": {},
   "outputs": [],
   "source": [
    "class Solution:\n",
    "    def isPowerOfTwo(self, n: int) -> bool:\n",
    "        if n<=0:\n",
    "            return False\n",
    "        while n> 1 :\n",
    "            if n%2 !=0:\n",
    "                return False\n",
    "            n=n//2\n",
    "        return n==1"
   ]
  },
  {
   "cell_type": "code",
   "execution_count": null,
   "id": "70e86292",
   "metadata": {},
   "outputs": [],
   "source": [
    "class Solution:\n",
    "    def isPowerOfTwo(self, n: int) -> bool:\n",
    "        if n<=0:\n",
    "            return False\n",
    "        while n> 1 :\n",
    "            if n%2 !=0:\n",
    "                return False\n",
    "            n=n//2\n",
    "        return True"
   ]
  }
 ],
 "metadata": {
  "kernelspec": {
   "display_name": "myenv",
   "language": "python",
   "name": "python3"
  },
  "language_info": {
   "codemirror_mode": {
    "name": "ipython",
    "version": 3
   },
   "file_extension": ".py",
   "mimetype": "text/x-python",
   "name": "python",
   "nbconvert_exporter": "python",
   "pygments_lexer": "ipython3",
   "version": "3.12.7"
  }
 },
 "nbformat": 4,
 "nbformat_minor": 5
}
