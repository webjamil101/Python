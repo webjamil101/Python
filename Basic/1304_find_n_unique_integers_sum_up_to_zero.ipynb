{
 "cells": [
  {
   "cell_type": "markdown",
   "id": "39a9db20",
   "metadata": {},
   "source": [
    "**1304. Find N Unique Integers Sum up to Zero**\n",
    "\n",
    "**Easy**\n",
    "\n",
    "**Companies**\n",
    "\n",
    "Given an integer n, return any array containing n unique integers such that they add up to 0.\n",
    "\n",
    "**Example 1:**\n",
    "\n",
    "```python\n",
    "Input: n = 5\n",
    "Output: [-7,-1,1,3,4]\n",
    "```\n",
    "\n",
    "**Explanation:** These arrays also are accepted [-5,-1,1,2,3] , [-3,-1,2,-2,4].\n",
    "\n",
    "**Example 2:**\n",
    "\n",
    "```python\n",
    "Input: n = 3\n",
    "Output: [-1,0,1]\n",
    "```\n",
    "\n",
    "**Example 3:**\n",
    "\n",
    "```python\n",
    "Input: n = 1\n",
    "Output: [0]\n",
    "```\n",
    "\n",
    "**Constraints:**\n",
    "\n",
    "- 1 <= n <= 1000\n"
   ]
  },
  {
   "cell_type": "code",
   "execution_count": null,
   "id": "982786d6",
   "metadata": {},
   "outputs": [],
   "source": [
    "class Solution:\n",
    "    def sumZero(self, n: int):\n",
    "        \"\"\"\n",
    "        Algorithm:\n",
    "        1. We need to return n unique integers whose sum = 0.\n",
    "        2. A simple approach is to use pairs of numbers (x, -x), since they cancel out.\n",
    "        3. If n is even:\n",
    "             - Just use pairs like (1, -1), (2, -2), ... until we have n numbers.\n",
    "        4. If n is odd:\n",
    "             - Do the same as even for (n-1) numbers, and then add 0 to make total n.\n",
    "        5. This guarantees uniqueness and sum = 0.\n",
    "\n",
    "        Time Complexity: O(n)\n",
    "        Space Complexity: O(1) (output array only)\n",
    "        \"\"\"\n",
    "        res = []\n",
    "        for i in range(1, n // 2 + 1):\n",
    "            res.append(i)\n",
    "            res.append(-i)\n",
    "        if n % 2 == 1:\n",
    "            res.append(0)\n",
    "        return res\n"
   ]
  },
  {
   "cell_type": "code",
   "execution_count": null,
   "id": "6b807d9d",
   "metadata": {},
   "outputs": [],
   "source": [
    "class Solution:\n",
    "    def sumZero(self, n: int):\n",
    "        \"\"\"\n",
    "        Approach 2: Use arithmetic sequence\n",
    "        - Generate numbers from -(n//2) to +(n//2).\n",
    "        - If n is odd, include 0. If n is even, skip 0 so total count is n.\n",
    "        \"\"\"\n",
    "        res = [i for i in range(-n//2, n//2 + 1)]\n",
    "        if n % 2 == 0:  # remove zero to keep count correct\n",
    "            res.remove(0)\n",
    "        return res\n"
   ]
  },
  {
   "cell_type": "code",
   "execution_count": null,
   "id": "6b8b2b1a",
   "metadata": {},
   "outputs": [],
   "source": [
    "class Solution:\n",
    "    def sumZero(self, n: int):\n",
    "        \"\"\"\n",
    "        Approach 3: Subtract the sum trick\n",
    "        - Take numbers 1...(n-1).\n",
    "        - Add -sum(1...(n-1)) as last element.\n",
    "        \"\"\"\n",
    "        res = [i for i in range(1, n)]\n",
    "        res.append(-sum(res))\n",
    "        return res\n"
   ]
  },
  {
   "cell_type": "code",
   "execution_count": null,
   "id": "a2d3ebb5",
   "metadata": {},
   "outputs": [],
   "source": [
    "import random\n",
    "class Solution:\n",
    "    def sumZero(self, n: int):\n",
    "        \"\"\"\n",
    "        Approach 4: Pair + shuffle\n",
    "        - Same as Approach 1, but shuffled to show 'any valid array' works.\n",
    "        \"\"\"\n",
    "        res = []\n",
    "        for i in range(1, n // 2 + 1):\n",
    "            res.extend([i, -i])\n",
    "        if n % 2 == 1:\n",
    "            res.append(0)\n",
    "        random.shuffle(res)\n",
    "        return res\n"
   ]
  }
 ],
 "metadata": {
  "kernelspec": {
   "display_name": "myenv",
   "language": "python",
   "name": "python3"
  },
  "language_info": {
   "name": "python",
   "version": "3.12.7"
  }
 },
 "nbformat": 4,
 "nbformat_minor": 5
}
