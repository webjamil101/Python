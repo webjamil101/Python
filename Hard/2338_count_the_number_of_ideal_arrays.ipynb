{
 "cells": [
  {
   "cell_type": "markdown",
   "id": "76e70943",
   "metadata": {},
   "source": [
    "# 2338. Count the Number of Ideal Arrays\n",
    "\n",
    "# Hard\n",
    "\n",
    "You are given two integers n and maxValue, which are used to describe an ideal array.\n",
    "\n",
    "A 0-indexed integer array arr of length n is considered ideal if the following conditions hold:\n",
    "\n",
    "Every arr[i] is a value from 1 to maxValue, for 0 <= i < n.\n",
    "Every arr[i] is divisible by arr[i - 1], for 0 < i < n.\n",
    "Return the number of distinct ideal arrays of length n. Since the answer may be very large, return it modulo 109 + 7.\n",
    "\n",
    "# Example 1:\n",
    "\n",
    "Input: n = 2, maxValue = 5\n",
    "Output: 10\n",
    "\n",
    "Explanation: The following are the possible ideal arrays:\n",
    "\n",
    "- Arrays starting with the value 1 (5 arrays): [1,1], [1,2], [1,3], [1,4], [1,5]\n",
    "- Arrays starting with the value 2 (2 arrays): [2,2], [2,4]\n",
    "- Arrays starting with the value 3 (1 array): [3,3]\n",
    "- Arrays starting with the value 4 (1 array): [4,4]\n",
    "- Arrays starting with the value 5 (1 array): [5,5]\n",
    "  There are a total of 5 + 2 + 1 + 1 + 1 = 10 distinct ideal arrays.\n",
    "\n",
    "# Example 2:\n",
    "\n",
    "Input: n = 5, maxValue = 3\n",
    "Output: 11\n",
    "\n",
    "Explanation: The following are the possible ideal arrays:\n",
    "\n",
    "- Arrays starting with the value 1 (9 arrays):\n",
    "  - With no other distinct values (1 array): [1,1,1,1,1]\n",
    "  - With 2nd distinct value 2 (4 arrays): [1,1,1,1,2], [1,1,1,2,2], [1,1,2,2,2], [1,2,2,2,2]\n",
    "  - With 2nd distinct value 3 (4 arrays): [1,1,1,1,3], [1,1,1,3,3], [1,1,3,3,3], [1,3,3,3,3]\n",
    "- Arrays starting with the value 2 (1 array): [2,2,2,2,2]\n",
    "- Arrays starting with the value 3 (1 array): [3,3,3,3,3]\n",
    "  There are a total of 9 + 1 + 1 = 11 distinct ideal arrays.\n",
    "\n",
    "# Constraints:\n",
    "\n",
    "- 2 <= n <= 104\n",
    "- 1 <= maxValue <= 104\n"
   ]
  },
  {
   "cell_type": "markdown",
   "id": "dc470def",
   "metadata": {},
   "source": []
  }
 ],
 "metadata": {
  "kernelspec": {
   "display_name": "myenv",
   "language": "python",
   "name": "python3"
  },
  "language_info": {
   "name": "python",
   "version": "3.12.7"
  }
 },
 "nbformat": 4,
 "nbformat_minor": 5
}
